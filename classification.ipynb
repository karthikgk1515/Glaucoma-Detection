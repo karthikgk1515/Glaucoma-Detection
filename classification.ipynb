{
 "cells": [
  {
   "cell_type": "code",
   "execution_count": 1,
   "metadata": {},
   "outputs": [],
   "source": [
    "from __future__ import absolute_import, division, print_function, unicode_literals\n",
    "\n",
    "\n",
    "import tensorflow as tf\n",
    "#tf.logging.set_verbosity(tf.logging.ERROR)\n",
    "#tf.enable_eager_execution()\n",
    "\n",
    "import tensorflow_hub as hub\n",
    "import os\n",
    "from tensorflow.keras.layers import Dense, Flatten, Conv2D\n",
    "from tensorflow.keras import Model\n",
    "from tensorflow.keras.preprocessing.image import ImageDataGenerator\n",
    "from tensorflow.keras.optimizers import Adam\n",
    "from tensorflow.keras import layers"
   ]
  },
  {
   "cell_type": "code",
   "execution_count": 2,
   "metadata": {},
   "outputs": [
    {
     "name": "stdout",
     "output_type": "stream",
     "text": [
      "Version:  2.1.0\n",
      "Eager mode:  True\n",
      "Hub version:  0.7.0\n",
      "WARNING:tensorflow:From <ipython-input-2-7161f679f313>:4: is_gpu_available (from tensorflow.python.framework.test_util) is deprecated and will be removed in a future version.\n",
      "Instructions for updating:\n",
      "Use `tf.config.list_physical_devices('GPU')` instead.\n",
      "GPU is NOT AVAILABLE\n"
     ]
    }
   ],
   "source": [
    "print(\"Version: \", tf.__version__)\n",
    "print(\"Eager mode: \", tf.executing_eagerly())\n",
    "print(\"Hub version: \", hub.__version__)\n",
    "print(\"GPU is\", \"available\" if tf.test.is_gpu_available() else \"NOT AVAILABLE\")"
   ]
  },
  {
   "cell_type": "code",
   "execution_count": 3,
   "metadata": {},
   "outputs": [],
   "source": [
    "data_dir = os.path.join('data', 'data')\n",
    "train_dir = os.path.join(data_dir, 'train')\n",
    "validation_dir = os.path.join(data_dir, 'validation')"
   ]
  },
  {
   "cell_type": "code",
   "execution_count": 4,
   "metadata": {},
   "outputs": [],
   "source": [
    "classes=os.listdir(train_dir)"
   ]
  },
  {
   "cell_type": "code",
   "execution_count": null,
   "metadata": {},
   "outputs": [],
   "source": []
  },
  {
   "cell_type": "code",
   "execution_count": 5,
   "metadata": {},
   "outputs": [
    {
     "name": "stdout",
     "output_type": "stream",
     "text": [
      "Using https://tfhub.dev/google/tf2-preview/inception_v3/feature_vector/2 with input size (299, 299) and output dimension 2048\n"
     ]
    }
   ],
   "source": [
    "module_selection = (\"inception_v3\", 299, 2048) #@param [\"(\\\"mobilenet_v2\\\", 224, 1280)\", \"(\\\"inception_v3\\\", 299, 2048)\"] {type:\"raw\", allow-input: true}\n",
    "handle_base, pixels, FV_SIZE = module_selection\n",
    "MODULE_HANDLE =\"https://tfhub.dev/google/tf2-preview/{}/feature_vector/2\".format(handle_base)\n",
    "IMAGE_SIZE = (pixels, pixels)\n",
    "print(\"Using {} with input size {} and output dimension {}\".format(\n",
    "  MODULE_HANDLE, IMAGE_SIZE, FV_SIZE))\n",
    "\n",
    "BATCH_SIZE = 64 #@param {type:\"integer\"}"
   ]
  },
  {
   "cell_type": "code",
   "execution_count": 6,
   "metadata": {},
   "outputs": [
    {
     "name": "stdout",
     "output_type": "stream",
     "text": [
      "Found 74 images belonging to 2 classes.\n",
      "Found 107 images belonging to 2 classes.\n"
     ]
    }
   ],
   "source": [
    "validation_datagen = tf.keras.preprocessing.image.ImageDataGenerator(rescale=1./255)\n",
    "validation_generator = validation_datagen.flow_from_directory(\n",
    "    validation_dir, \n",
    "    shuffle=False, \n",
    "    seed=42,\n",
    "    color_mode=\"rgb\", \n",
    "    class_mode=\"categorical\",\n",
    "    target_size=IMAGE_SIZE,\n",
    "    batch_size=BATCH_SIZE)\n",
    "\n",
    "do_data_augmentation = True #@param {type:\"boolean\"}\n",
    "if do_data_augmentation:\n",
    "  train_datagen = tf.keras.preprocessing.image.ImageDataGenerator(\n",
    "      rescale = 1./255,\n",
    "      rotation_range=40,\n",
    "      horizontal_flip=True,\n",
    "      width_shift_range=0.2, \n",
    "      height_shift_range=0.2,\n",
    "      shear_range=0.2, \n",
    "      zoom_range=0.2,\n",
    "      fill_mode='nearest' )\n",
    "else:\n",
    "  train_datagen = validation_datagen\n",
    "  \n",
    "train_generator = train_datagen.flow_from_directory(\n",
    "    train_dir, \n",
    "    subset=\"training\", \n",
    "    shuffle=True, \n",
    "    seed=42,\n",
    "    color_mode=\"rgb\", \n",
    "    class_mode=\"categorical\",\n",
    "    target_size=IMAGE_SIZE,\n",
    "    batch_size=BATCH_SIZE)"
   ]
  },
  {
   "cell_type": "code",
   "execution_count": null,
   "metadata": {},
   "outputs": [],
   "source": []
  },
  {
   "cell_type": "code",
   "execution_count": null,
   "metadata": {},
   "outputs": [],
   "source": [
    "feature_extractor = hub.KerasLayer(MODULE_HANDLE,\n",
    "                                   input_shape=IMAGE_SIZE+(3,),\n",
    "                                   output_shape=[FV_SIZE])"
   ]
  },
  {
   "cell_type": "code",
   "execution_count": null,
   "metadata": {},
   "outputs": [],
   "source": [
    "\n",
    "\n",
    "do_fine_tuning = False #@param {type:\"boolean\"}\n",
    "if do_fine_tuning:\n",
    "      feature_extractor.trainable = True\n",
    "  # unfreeze some layers of base network for fine-tuning\n",
    "      for layer in base_model.layers[-30:]:\n",
    "        layer.trainable =True\n",
    "else:\n",
    "    feature_extractor.trainable = False\n",
    "\n"
   ]
  },
  {
   "cell_type": "code",
   "execution_count": null,
   "metadata": {},
   "outputs": [],
   "source": [
    "print(\"Building model with\", MODULE_HANDLE)\n",
    "model = tf.keras.Sequential([\n",
    "    feature_extractor,\n",
    "    tf.keras.layers.Flatten(),\n",
    "    tf.keras.layers.Dense(512, activation='relu'),\n",
    "    tf.keras.layers.Dropout(rate=0.2),\n",
    "    tf.keras.layers.Dense(train_generator.num_classes, activation='softmax',\n",
    "                           kernel_regularizer=tf.keras.regularizers.l2(0.0001))\n",
    "])\n",
    "#model.build((None,)+IMAGE_SIZE+(3,))\n",
    "\n",
    "model.summary()"
   ]
  },
  {
   "cell_type": "code",
   "execution_count": null,
   "metadata": {},
   "outputs": [],
   "source": [
    "#Compile model specifying the optimizer learning rate\n",
    "\n",
    "LEARNING_RATE = 0.001 #@param {type:\"number\"}\n",
    "\n",
    "model.compile(\n",
    "   optimizer=tf.keras.optimizers.Adam(lr=LEARNING_RATE), \n",
    "   loss='categorical_crossentropy',\n",
    "   metrics=['accuracy'])"
   ]
  },
  {
   "cell_type": "code",
   "execution_count": null,
   "metadata": {},
   "outputs": [],
   "source": [
    "EPOCHS=10 #@param {type:\"integer\"}\n",
    "\n",
    "history = model.fit_generator(\n",
    "        train_generator,\n",
    "        steps_per_epoch=train_generator.samples//train_generator.batch_size,\n",
    "        epochs=EPOCHS,\n",
    "        validation_data=validation_generator,\n",
    "        validation_steps=validation_generator.samples//validation_generator.batch_size)"
   ]
  },
  {
   "cell_type": "code",
   "execution_count": null,
   "metadata": {},
   "outputs": [],
   "source": [
    "import matplotlib.pylab as plt\n",
    "import numpy as np\n",
    "\n",
    "acc = history.history['accuracy']\n",
    "val_acc = history.history['val_accuracy']\n",
    "\n",
    "loss = history.history['loss']\n",
    "val_loss = history.history['val_loss']\n",
    "\n",
    "epochs_range = range(EPOCHS)\n",
    "\n",
    "plt.figure(figsize=(8, 8))\n",
    "plt.subplot(1, 2, 1)\n",
    "plt.plot(epochs_range, acc, label='Training Accuracy')\n",
    "plt.plot(epochs_range, val_acc, label='Validation Accuracy')\n",
    "plt.legend(loc='lower right')\n",
    "plt.title('Training and Validation Accuracy')\n",
    "plt.ylabel(\"Accuracy (training and validation)\")\n",
    "plt.xlabel(\"Training Steps\")\n",
    "\n",
    "plt.subplot(1, 2, 2)\n",
    "plt.plot(epochs_range, loss, label='Training Loss')\n",
    "plt.plot(epochs_range, val_loss, label='Validation Loss')\n",
    "plt.legend(loc='upper right')\n",
    "plt.title('Training and Validation Loss')\n",
    "plt.ylabel(\"Loss (training and validation)\")\n",
    "plt.xlabel(\"Training Steps\")\n",
    "plt.show()"
   ]
  },
  {
   "cell_type": "code",
   "execution_count": null,
   "metadata": {
    "scrolled": true
   },
   "outputs": [],
   "source": [
    "import cv2\n",
    "\n",
    "# Utility\n",
    "import itertools\n",
    "import random\n",
    "from collections import Counter\n",
    "from glob import iglob\n",
    "\n",
    "\n",
    "def load_image(filename):\n",
    "    print(filename)\n",
    "    img = cv2.imread(filename)\n",
    "    img = cv2.resize(img, (IMAGE_SIZE[0], IMAGE_SIZE[1]) )\n",
    "    img = img /255\n",
    "    \n",
    "    return img\n",
    "\n",
    "\n",
    "def predict(image):\n",
    "    probabilities = model.predict(np.asarray([image]))[0]\n",
    "    class_idx = np.argmax(probabilities)\n",
    "    \n",
    "    return {classes[class_idx]: probabilities[class_idx]}"
   ]
  },
  {
   "cell_type": "code",
   "execution_count": null,
   "metadata": {},
   "outputs": [],
   "source": [
    "\n",
    "\n",
    "\n",
    "    img = load_image('data/data/train/not_glaucoma/ROI - 983_left.jpeg.png')\n",
    "    prediction = predict(img)\n",
    "    print(\"PREDICTED: class: %s, confidence: %f\" % (list(prediction.keys())[0], list(prediction.values())[0]))\n",
    "    plt.imshow(img)\n",
    "    \n",
    "\n"
   ]
  },
  {
   "cell_type": "code",
   "execution_count": null,
   "metadata": {},
   "outputs": [],
   "source": [
    "import time\n",
    "t = time.time()\n",
    "\n",
    "export_path = \"saved_models/\".format(int(t))"
   ]
  },
  {
   "cell_type": "code",
   "execution_count": null,
   "metadata": {},
   "outputs": [],
   "source": [
    "\n",
    "tf.keras.models.save_model(model, export_path)\n",
    "export_path"
   ]
  },
  {
   "cell_type": "code",
   "execution_count": null,
   "metadata": {},
   "outputs": [],
   "source": [
    "reloaded = tf.keras.models.load_model(export_path, custom_objects={'KerasLayer':hub.KerasLayer})"
   ]
  },
  {
   "cell_type": "code",
   "execution_count": null,
   "metadata": {},
   "outputs": [],
   "source": [
    "TFLITE_MODEL = \"tflite_models/plant_disease_model.tflite\"\n",
    "\n",
    "\n",
    "# Get the concrete function from the Keras model.\n",
    "run_model = tf.function(lambda x : reloaded(x))\n",
    "\n",
    "# Save the concrete function.\n",
    "concrete_func = run_model.get_concrete_function(\n",
    "    tf.TensorSpec(model.inputs[0].shape, model.inputs[0].dtype)\n",
    ")\n",
    "\n",
    "# Convert the model to standard TensorFlow Lite model\n",
    "converter = tf.lite.TFLiteConverter.from_concrete_functions([concrete_func])\n",
    "converted_tflite_model = converter.convert()\n",
    "open(TFLITE_MODEL, \"wb\").write(converted_tflite_model)"
   ]
  },
  {
   "cell_type": "code",
   "execution_count": null,
   "metadata": {},
   "outputs": [],
   "source": [
    "\n",
    "\n",
    "def predict_reload(image):\n",
    "    probabilities = reloaded.predict(np.asarray([image]))[0]\n",
    "    class_idx = np.argmax(probabilities)\n",
    "    \n",
    "    return {classes[class_idx]: probabilities[class_idx]}\n",
    "\n"
   ]
  },
  {
   "cell_type": "code",
   "execution_count": null,
   "metadata": {},
   "outputs": [],
   "source": [
    "\n",
    "\n",
    "   \n",
    "    \n",
    "    img = load_image('data/data/train/not_glaucoma/ROI - 983_left.jpeg.png')\n",
    "    prediction = predict_reload(img)\n",
    "    print(\"PREDICTED: class: %s, confidence: %f\" % (list(prediction.keys())[0], list(prediction.values())[0]))\n",
    "    plt.imshow(img)\n",
    "    \n",
    "\n"
   ]
  },
  {
   "cell_type": "code",
   "execution_count": null,
   "metadata": {},
   "outputs": [],
   "source": []
  },
  {
   "cell_type": "code",
   "execution_count": null,
   "metadata": {},
   "outputs": [],
   "source": []
  },
  {
   "cell_type": "code",
   "execution_count": null,
   "metadata": {},
   "outputs": [],
   "source": []
  },
  {
   "cell_type": "code",
   "execution_count": null,
   "metadata": {},
   "outputs": [],
   "source": [
    "from tkinter import *\n",
    "from tkinter import messagebox \n",
    "import matplotlib.pyplot as plt\n",
    "import pandas"
   ]
  },
  {
   "cell_type": "code",
   "execution_count": null,
   "metadata": {},
   "outputs": [],
   "source": []
  },
  {
   "cell_type": "code",
   "execution_count": null,
   "metadata": {},
   "outputs": [],
   "source": [
    "\n",
    "\n",
    "\n",
    "\n",
    "def get_filenames():\n",
    "    global path\n",
    "    path = r\"test\"\n",
    "    return os.listdir(path)\n",
    "\n",
    "\n",
    "def curselect(event):\n",
    "    global spath\n",
    "    index = t1.curselection()[0]\n",
    "    spath = t1.get(index)\n",
    "    return(spath)\n",
    "\n",
    "\n",
    "def autoroi(img):\n",
    "\n",
    "    gray_img = cv2.cvtColor(img, cv2.COLOR_BGR2GRAY)\n",
    "\n",
    "    thresh = cv2.threshold(gray_img, 130, 255, cv2.THRESH_BINARY)[1]\n",
    "    thresh = cv2.dilate(thresh, None, iterations=5)\n",
    "\n",
    "    contours, hierarchy = cv2.findContours(\n",
    "        thresh.copy(), cv2.RETR_EXTERNAL, cv2.CHAIN_APPROX_SIMPLE)\n",
    "\n",
    "    biggest = max(contours, key=cv2.contourArea)\n",
    "    x, y, w, h = cv2.boundingRect(biggest)\n",
    "    cv2.rectangle(img, (x, y), (x+w, y+h), (0, 255, 0), 2)\n",
    "    roi = img[y:y+h, x:x+w]\n",
    "\n",
    "    return roi\n",
    "\n",
    "\n",
    "\n",
    "def predict_reload(image):\n",
    "    probabilities = reloaded.predict(np.asarray([image]))[0]\n",
    "    class_idx = np.argmax(probabilities)\n",
    "    \n",
    "    return {classes[class_idx]: probabilities[class_idx]}\n",
    "\n",
    "\n",
    "\n",
    "def prediction():\n",
    "\n",
    "    img=load_image('test/%s' % (spath))\n",
    "\n",
    "\n",
    "    prob = predict_reload(img)\n",
    "    print(prob)\n",
    "    \n",
    "\n",
    "    return(list(prob.keys())[0])\n",
    "\n",
    "\n",
    "def run():\n",
    "\n",
    "    Class = prediction()\n",
    "    if (Class == 'glaucoma'):\n",
    "        messagebox.showinfo('Prediction', 'You have been diagnosed with Glaucoma')\n",
    "    else:\n",
    "        messagebox.showinfo('Prediction', 'Congratulations! You are Healthy')\n",
    "\n",
    "\n",
    "def run_all():\n",
    "\n",
    "    x = os.listdir(path)\n",
    "    y = []\n",
    "    affected = 0\n",
    "\n",
    "    for i in x:\n",
    "        img=load_image('test/%s' % (spath))\n",
    "        prob = predict_reload(img)\n",
    "        Class = 0\n",
    "        if(prob == 'glaucoma'):\n",
    "            Class=1\n",
    "        \n",
    "        y.append(Class)\n",
    "        if Class == 1:\n",
    "            affected += 1\n",
    "\n",
    "    df = pandas.DataFrame(data=y, index=x, columns=[\"output\"])\n",
    "    df.to_csv('output.csv', sep=',')\n",
    "\n",
    "\n",
    "def ROI():\n",
    "    img = cv2.imread('test/%s' % (spath))\n",
    "    roi = autoroi(img)\n",
    "    cv2.imshow(\"Region of Interest\", roi)\n",
    "def load_image(filename):\n",
    "    print(filename)\n",
    "    img = cv2.imread(filename)\n",
    "    img = cv2.resize(img, (IMAGE_SIZE[0], IMAGE_SIZE[1]) )\n",
    "    img = img /255\n",
    "    \n",
    "    return img\n",
    "\n",
    "def preview():\n",
    "    img = cv2.imread('test/%s' % (spath))\n",
    "    cv2.imshow('Image', img)\n",
    "\n",
    "\n",
    "def graph():\n",
    "\n",
    "    total = len(os.listdir(path))\n",
    "    affected = pandas.read_csv('output.csv')\n",
    "    affected = affected['output'].sum()\n",
    "\n",
    "    healthy = total - affected\n",
    "\n",
    "    piey = [\"Glaucomatous\", \"Healthy\"]\n",
    "    piex = [affected, healthy]\n",
    "\n",
    "    plt.axis(\"equal\")\n",
    "    plt.pie(piex, labels=piey, radius=1.5, autopct='%0.1f%%', explode=[0.2, 0])\n",
    "    plt.show()\n",
    "\n",
    "# Frontend GUI\n",
    "\n",
    "\n",
    "window = Tk()\n",
    "window.title(\"Glaucoma Detection\")\n",
    "window.geometry('1000x550')\n",
    "window.configure(background='grey')\n",
    "\n",
    "l1 = Label(window, text=\"Test Image\", font=(\"Arial\", 20), padx=10, bg='grey')\n",
    "l1.grid(row=0, column=0)\n",
    "\n",
    "b1 = Button(window, text='Run', font=(\"Arial\", 20), command=run)\n",
    "b1.grid(row=1, column=3)\n",
    "\n",
    "b2 = Button(window, text='Preview', font=(\"Arial\", 20), command=preview)\n",
    "b2.grid(row=1, column=2, rowspan=2, padx=10)\n",
    "\n",
    "b2 = Button(window, text='ROI', font=(\"Arial\", 20), command=ROI)\n",
    "b2.grid(row=2, column=2, rowspan=3, padx=10)\n",
    "\n",
    "b3 = Button(window, text='Run all', font=(\"Arial\", 20), command=run_all)\n",
    "b3.grid(row=2, column=3)\n",
    "\n",
    "b4 = Button(window, text='Graph', font=(\"Arial\", 20), command=graph)\n",
    "b4.grid(row=3, column=3)\n",
    "\n",
    "t1 = Listbox(window, height=20, width=60, selectmode=SINGLE, font=(\"Arial\", 15), justify=CENTER)\n",
    "t1.grid(row=1, column=0, rowspan=3, padx=10)\n",
    "for filename in get_filenames():\n",
    "    t1.insert(END, filename)\n",
    "t1.bind('<<ListboxSelect>>', curselect)\n",
    "\n",
    "sb1 = Scrollbar(window)\n",
    "sb1.grid(row=1, column=1, rowspan=4)\n",
    "\n",
    "t1.configure(yscrollcommand=sb1.set)\n",
    "sb1.configure(command=t1.yview)\n",
    "\n",
    "\n",
    "window.mainloop()\n"
   ]
  },
  {
   "cell_type": "code",
   "execution_count": null,
   "metadata": {},
   "outputs": [],
   "source": []
  },
  {
   "cell_type": "code",
   "execution_count": null,
   "metadata": {},
   "outputs": [],
   "source": []
  },
  {
   "cell_type": "code",
   "execution_count": null,
   "metadata": {},
   "outputs": [],
   "source": []
  },
  {
   "cell_type": "code",
   "execution_count": null,
   "metadata": {},
   "outputs": [],
   "source": []
  },
  {
   "cell_type": "code",
   "execution_count": null,
   "metadata": {},
   "outputs": [],
   "source": []
  },
  {
   "cell_type": "code",
   "execution_count": null,
   "metadata": {},
   "outputs": [],
   "source": []
  },
  {
   "cell_type": "code",
   "execution_count": null,
   "metadata": {},
   "outputs": [],
   "source": []
  }
 ],
 "metadata": {
  "kernelspec": {
   "display_name": "Python 3",
   "language": "python",
   "name": "python3"
  },
  "language_info": {
   "codemirror_mode": {
    "name": "ipython",
    "version": 3
   },
   "file_extension": ".py",
   "mimetype": "text/x-python",
   "name": "python",
   "nbconvert_exporter": "python",
   "pygments_lexer": "ipython3",
   "version": "3.6.7"
  }
 },
 "nbformat": 4,
 "nbformat_minor": 2
}
